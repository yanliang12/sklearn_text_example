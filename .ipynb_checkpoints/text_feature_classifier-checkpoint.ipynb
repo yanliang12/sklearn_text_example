{
 "cells": [
  {
   "cell_type": "markdown",
   "id": "f2652f39-415f-4418-a3f0-d672be07abff",
   "metadata": {},
   "source": [
    "https://scikit-learn.org/stable/auto_examples/text/plot_hashing_vs_dict_vectorizer.html#sphx-glr-auto-examples-text-plot-hashing-vs-dict-vectorizer-py"
   ]
  },
  {
   "cell_type": "code",
   "execution_count": 1,
   "id": "f7364354-b772-49e0-8609-7382df551239",
   "metadata": {},
   "outputs": [
    {
     "name": "stdout",
     "output_type": "stream",
     "text": [
      "Loading 20 newsgroups training data\n",
      "3803 documents - 6.245MB\n"
     ]
    }
   ],
   "source": [
    "from sklearn.datasets import fetch_20newsgroups\n",
    "\n",
    "categories = [\n",
    "    \"alt.atheism\",\n",
    "    \"comp.graphics\",\n",
    "    \"comp.sys.ibm.pc.hardware\",\n",
    "    \"misc.forsale\",\n",
    "    \"rec.autos\",\n",
    "    \"sci.space\",\n",
    "    \"talk.religion.misc\",\n",
    "]\n",
    "\n",
    "print(\"Loading 20 newsgroups training data\")\n",
    "raw_data, _ = fetch_20newsgroups(subset=\"train\", categories=categories, return_X_y=True)\n",
    "data_size_mb = sum(len(s.encode(\"utf-8\")) for s in raw_data) / 1e6\n",
    "print(f\"{len(raw_data)} documents - {data_size_mb:.3f}MB\")"
   ]
  },
  {
   "cell_type": "code",
   "execution_count": 4,
   "id": "8b04d9fa-8f8e-4b38-bdbd-250249e4fe13",
   "metadata": {},
   "outputs": [
    {
     "name": "stdout",
     "output_type": "stream",
     "text": [
      "Subject: Re: Christian Daemons? [Biblical Demons, the u\n",
      "From: stigaard@mhd.moorhead.msus.edu\n",
      "Reply-To: stigaard@mhd.moorhead.msus.edu\n",
      "Organization: Moorhead State University, Moorhead, MN\n",
      "Nntp-Posting-Host: 134.29.97.2\n",
      "Lines: 23\n",
      "\n",
      ">>>667\n",
      ">>>the neighbor of the beast\n",
      ">>\n",
      ">>No, 667 is across the street from the beast.  664 and 668 are the\n",
      ">>neighbors of the beast.\n",
      ">\n",
      ">I think some people are still not clear on this:\n",
      ">667 is *not* the neighbor of the beast, but, rather, across the\n",
      ">street. It is, in fact, 668 which is the neighbor of the beast.\n",
      "\n",
      "no, sheesh, didn't you know 666 is the beast's apartment?  667 is across the\n",
      "hall from the beast, and is his neighbor along with the rest of the 6th floor.\n",
      "\n",
      ">Justin (still trying to figure out what this has to do with alt.discordia)\n",
      "\n",
      "This doesn't seem discordant to you?\n",
      "\n",
      "-----------------------     ----------------------     -----------------------\n",
      "\t-Paul W. Stigaard, Lokean Discordian Libertarian\n",
      "  !XOA!\t\tinternet:  stigaard@mhd1.moorhead.msus.edu\n",
      " (fnord)       Episkopos and Chair, Moorhead State University Campus Discordians\n",
      "\t\tRectal neufotomist at large\n",
      "     \"If I left a quote here, someone would think it meant something.\"\n",
      "\n"
     ]
    }
   ],
   "source": [
    "print(raw_data[0])"
   ]
  },
  {
   "cell_type": "code",
   "execution_count": 6,
   "id": "14b307aa-48e4-4d9b-ac44-4dcd90625622",
   "metadata": {},
   "outputs": [
    {
     "data": {
      "text/plain": [
       "3803"
      ]
     },
     "execution_count": 6,
     "metadata": {},
     "output_type": "execute_result"
    }
   ],
   "source": [
    "len(raw_data)"
   ]
  },
  {
   "cell_type": "code",
   "execution_count": 5,
   "id": "d184e42a-ff09-430b-912b-e4ef5b8849ad",
   "metadata": {},
   "outputs": [
    {
     "data": {
      "text/plain": [
       "['this', 'is', 'a', 'simple', 'example', 'isn', 't', 'it']"
      ]
     },
     "execution_count": 5,
     "metadata": {},
     "output_type": "execute_result"
    }
   ],
   "source": [
    "import re\n",
    "\n",
    "\n",
    "def tokenize(doc):\n",
    "    \"\"\"Extract tokens from doc.\n",
    "\n",
    "    This uses a simple regex that matches word characters to break strings\n",
    "    into tokens. For a more principled approach, see CountVectorizer or\n",
    "    TfidfVectorizer.\n",
    "    \"\"\"\n",
    "    return (tok.lower() for tok in re.findall(r\"\\w+\", doc))\n",
    "\n",
    "\n",
    "list(tokenize(\"This is a simple example, isn't it?\"))"
   ]
  },
  {
   "cell_type": "code",
   "execution_count": null,
   "id": "6373c749-e097-491b-af96-7b2a353871e3",
   "metadata": {},
   "outputs": [],
   "source": []
  },
  {
   "cell_type": "code",
   "execution_count": 47,
   "id": "f28d2885-a9a2-4ce0-813c-352180c70069",
   "metadata": {},
   "outputs": [
    {
     "name": "stdout",
     "output_type": "stream",
     "text": [
      "(3803, 512)\n"
     ]
    }
   ],
   "source": [
    "from sklearn.feature_extraction.text import HashingVectorizer\n",
    "vectorizer = HashingVectorizer(n_features=2**9)\n",
    "model = vectorizer.fit(raw_data)\n",
    "X = model.transform(raw_data)\n",
    "print(X.shape)"
   ]
  },
  {
   "cell_type": "code",
   "execution_count": 49,
   "id": "bcca3c36-999c-4ce7-84e6-5923e2c6f93d",
   "metadata": {},
   "outputs": [
    {
     "data": {
      "text/plain": [
       "512"
      ]
     },
     "execution_count": 49,
     "metadata": {},
     "output_type": "execute_result"
    }
   ],
   "source": [
    "vectorizer.n_features"
   ]
  },
  {
   "cell_type": "code",
   "execution_count": 15,
   "id": "842201d6-8632-4b7e-b0fa-c7a1a5f21c1d",
   "metadata": {},
   "outputs": [
    {
     "name": "stdout",
     "output_type": "stream",
     "text": [
      "  (0, 0)\t0.03925343359894298\n",
      "  (0, 10)\t-0.03925343359894298\n",
      "  (0, 19)\t0.03925343359894298\n",
      "  (0, 36)\t-0.03925343359894298\n",
      "  (0, 41)\t-0.03925343359894298\n",
      "  (0, 54)\t0.07850686719788597\n",
      "  (0, 55)\t-0.03925343359894298\n",
      "  (0, 60)\t0.03925343359894298\n",
      "  (0, 61)\t-0.03925343359894298\n",
      "  (0, 62)\t0.07850686719788597\n",
      "  (0, 76)\t0.07850686719788597\n",
      "  (0, 77)\t-0.03925343359894298\n",
      "  (0, 78)\t0.11776030079682893\n",
      "  (0, 88)\t0.03925343359894298\n",
      "  (0, 91)\t0.15701373439577193\n",
      "  (0, 107)\t-0.03925343359894298\n",
      "  (0, 108)\t-0.11776030079682893\n",
      "  (0, 110)\t0.07850686719788597\n",
      "  (0, 117)\t-0.03925343359894298\n",
      "  (0, 121)\t-0.03925343359894298\n",
      "  (0, 125)\t-0.03925343359894298\n",
      "  (0, 128)\t-0.03925343359894298\n",
      "  (0, 134)\t0.03925343359894298\n",
      "  (0, 135)\t-0.03925343359894298\n",
      "  (0, 141)\t-0.07850686719788597\n",
      "  :\t:\n",
      "  (0, 372)\t0.11776030079682893\n",
      "  (0, 380)\t0.03925343359894298\n",
      "  (0, 388)\t-0.03925343359894298\n",
      "  (0, 397)\t0.03925343359894298\n",
      "  (0, 412)\t0.07850686719788597\n",
      "  (0, 413)\t-0.03925343359894298\n",
      "  (0, 414)\t0.03925343359894298\n",
      "  (0, 415)\t-0.03925343359894298\n",
      "  (0, 417)\t-0.03925343359894298\n",
      "  (0, 419)\t0.03925343359894298\n",
      "  (0, 442)\t0.03925343359894298\n",
      "  (0, 443)\t0.03925343359894298\n",
      "  (0, 460)\t0.03925343359894298\n",
      "  (0, 470)\t0.03925343359894298\n",
      "  (0, 478)\t0.03925343359894298\n",
      "  (0, 479)\t-0.03925343359894298\n",
      "  (0, 481)\t-0.03925343359894298\n",
      "  (0, 484)\t0.0\n",
      "  (0, 486)\t-0.15701373439577193\n",
      "  (0, 494)\t0.03925343359894298\n",
      "  (0, 495)\t0.03925343359894298\n",
      "  (0, 501)\t-0.03925343359894298\n",
      "  (0, 502)\t-0.03925343359894298\n",
      "  (0, 505)\t-0.03925343359894298\n",
      "  (0, 509)\t0.03925343359894298\n"
     ]
    }
   ],
   "source": [
    "for c in X[0]:\n",
    "    print(c)"
   ]
  },
  {
   "cell_type": "code",
   "execution_count": 13,
   "id": "84e59ed8-246a-4f8e-9451-75da4692ddb7",
   "metadata": {},
   "outputs": [
    {
     "data": {
      "text/plain": [
       "(3803, 512)"
      ]
     },
     "execution_count": 13,
     "metadata": {},
     "output_type": "execute_result"
    }
   ],
   "source": [
    "X.shape"
   ]
  },
  {
   "cell_type": "code",
   "execution_count": null,
   "id": "1aac3d0c-b2b1-4ff6-a872-b200bf1e8d06",
   "metadata": {},
   "outputs": [],
   "source": []
  },
  {
   "cell_type": "code",
   "execution_count": null,
   "id": "3629b791-7914-4d34-a86e-0ee6cd9933a5",
   "metadata": {},
   "outputs": [],
   "source": []
  },
  {
   "cell_type": "code",
   "execution_count": null,
   "id": "7c769061-28a4-428d-9496-4ddb35764285",
   "metadata": {},
   "outputs": [],
   "source": []
  },
  {
   "cell_type": "code",
   "execution_count": 50,
   "id": "0a28ac62-36e2-4c82-9b9b-ff778e3f8338",
   "metadata": {},
   "outputs": [
    {
     "name": "stdout",
     "output_type": "stream",
     "text": [
      "(3803, 1024)\n",
      "CPU times: total: 609 ms\n",
      "Wall time: 2.33 s\n"
     ]
    }
   ],
   "source": [
    "%%time\n",
    "\n",
    "from sklearn.feature_extraction.text import TfidfVectorizer\n",
    "\n",
    "vectorizer = TfidfVectorizer(max_features = 1024)\n",
    "model = vectorizer.fit(raw_data)\n",
    "X = model.transform(raw_data)\n",
    "vectorizer.get_feature_names_out()\n",
    "print(X.shape)"
   ]
  },
  {
   "cell_type": "code",
   "execution_count": 51,
   "id": "2de1ed00-6c3a-4ff8-97b6-859d1085871e",
   "metadata": {},
   "outputs": [
    {
     "name": "stdout",
     "output_type": "stream",
     "text": [
      "  (0, 1021)\t0.09151362661419961\n",
      "  (0, 1009)\t0.05957418391896208\n",
      "  (0, 997)\t0.09591874198152693\n",
      "  (0, 988)\t0.06879315809683535\n",
      "  (0, 983)\t0.060054776343078764\n",
      "  (0, 936)\t0.11217113221110285\n",
      "  (0, 924)\t0.11089580533067639\n",
      "  (0, 910)\t0.1346549959504493\n",
      "  (0, 899)\t0.1413787826048561\n",
      "  (0, 897)\t0.14795213507030558\n",
      "  (0, 885)\t0.5432076426016901\n",
      "  (0, 856)\t0.02927179011197917\n",
      "  (0, 851)\t0.18589827976725962\n",
      "  (0, 845)\t0.19788767789341993\n",
      "  (0, 825)\t0.08932128492367386\n",
      "  (0, 824)\t0.09624479859281847\n",
      "  (0, 823)\t0.065484307954295\n",
      "  (0, 786)\t0.11638318164109641\n",
      "  (0, 754)\t0.13068932020328572\n",
      "  (0, 750)\t0.07882097143877041\n",
      "  (0, 736)\t0.04288839098164043\n",
      "  (0, 734)\t0.10681560277206868\n",
      "  (0, 728)\t0.14053846489217006\n",
      "  (0, 699)\t0.05075509928124087\n",
      "  (0, 672)\t0.07979891449331092\n",
      "  :\t:\n",
      "  (0, 470)\t0.08066444821205487\n",
      "  (0, 464)\t0.2717565035939064\n",
      "  (0, 462)\t0.11296901067592482\n",
      "  (0, 447)\t0.03549931204019815\n",
      "  (0, 440)\t0.050278090516203286\n",
      "  (0, 431)\t0.05228524614717385\n",
      "  (0, 427)\t0.09181932783383094\n",
      "  (0, 421)\t0.08422483331276243\n",
      "  (0, 408)\t0.06306798232612473\n",
      "  (0, 369)\t0.08781537033593752\n",
      "  (0, 338)\t0.10502181485148342\n",
      "  (0, 307)\t0.12595069646037815\n",
      "  (0, 286)\t0.09978746477445607\n",
      "  (0, 284)\t0.0613149403769846\n",
      "  (0, 272)\t0.10502181485148342\n",
      "  (0, 207)\t0.13435306945359105\n",
      "  (0, 200)\t0.11114706687438584\n",
      "  (0, 168)\t0.05122371647330524\n",
      "  (0, 117)\t0.05373961407748507\n",
      "  (0, 105)\t0.10008493958090374\n",
      "  (0, 89)\t0.10652649860916498\n",
      "  (0, 80)\t0.13854188731348796\n",
      "  (0, 77)\t0.1259321002098033\n",
      "  (0, 28)\t0.12635328431247755\n",
      "  (0, 21)\t0.11668651896817607\n"
     ]
    }
   ],
   "source": [
    "X = model.transform([raw_data[0]])\n",
    "\n",
    "for c in X:\n",
    "    print(c)"
   ]
  },
  {
   "cell_type": "code",
   "execution_count": 52,
   "id": "1cf7b09b-0cc8-4351-ba1b-c0493bb8c190",
   "metadata": {},
   "outputs": [
    {
     "data": {
      "text/plain": [
       "[array(['you', 'would', 'with', 'which', 'what', 'university', 'trying',\n",
       "        'to', 'this', 'think', 'the', 'subject', 'still', 'state',\n",
       "        'something', 'someone', 'some', 'seem', 'rest', 'reply', 're',\n",
       "        'rather', 'quote', 'posting', 'people', 'paul', 'out',\n",
       "        'organization', 'on', 'of', 'not', 'no', 'nntp', 'lines', 'left',\n",
       "        'large', 'know', 'it', 'is', 'internet', 'in', 'if', 'host', 'his',\n",
       "        'here', 'has', 'from', 'fact', 'edu', 'doesn', 'do', 'didn',\n",
       "        'clear', 'christian', 'but', 'at', 'are', 'and', 'alt', 'along',\n",
       "        '29', '23'], dtype='<U14')]"
      ]
     },
     "execution_count": 52,
     "metadata": {},
     "output_type": "execute_result"
    }
   ],
   "source": [
    "vectorizer.inverse_transform(X)"
   ]
  },
  {
   "cell_type": "code",
   "execution_count": 24,
   "id": "d3bf9843-de68-427f-958f-194d4c79e4d2",
   "metadata": {},
   "outputs": [
    {
     "data": {
      "text/plain": [
       "{'subject': 87,\n",
       " 're': 80,\n",
       " 'the': 92,\n",
       " 'from': 34,\n",
       " 'edu': 30,\n",
       " 'to': 103,\n",
       " 'organization': 74,\n",
       " 'university': 105,\n",
       " 'nntp': 65,\n",
       " 'posting': 79,\n",
       " 'host': 44,\n",
       " 'lines': 55,\n",
       " 'of': 69,\n",
       " 'no': 66,\n",
       " 'is': 49,\n",
       " 'and': 6,\n",
       " 'are': 9,\n",
       " 'think': 99,\n",
       " 'some': 85,\n",
       " 'people': 77,\n",
       " 'not': 67,\n",
       " 'on': 70,\n",
       " 'this': 100,\n",
       " 'but': 16,\n",
       " 'it': 50,\n",
       " 'in': 47,\n",
       " 'which': 118,\n",
       " 'you': 126,\n",
       " 'know': 53,\n",
       " 'his': 43,\n",
       " 'with': 122,\n",
       " 'out': 76,\n",
       " 'what': 116,\n",
       " 'has': 39,\n",
       " 'do': 26,\n",
       " 'at': 12,\n",
       " 'if': 46,\n",
       " 'here': 42,\n",
       " 'would': 124,\n",
       " 'please': 78,\n",
       " 'writes': 125,\n",
       " 'have': 40,\n",
       " 'about': 1,\n",
       " 'for': 33,\n",
       " 'your': 127,\n",
       " 'can': 19,\n",
       " 'world': 123,\n",
       " 'there': 96,\n",
       " 'they': 98,\n",
       " 'their': 93,\n",
       " 'why': 120,\n",
       " 'be': 13,\n",
       " 'more': 60,\n",
       " 'than': 90,\n",
       " 'car': 20,\n",
       " 'us': 107,\n",
       " 'drive': 29,\n",
       " 'article': 10,\n",
       " 'well': 114,\n",
       " 'used': 109,\n",
       " 'way': 112,\n",
       " 'was': 111,\n",
       " 'that': 91,\n",
       " 'all': 2,\n",
       " 'one': 71,\n",
       " 'so': 84,\n",
       " 'been': 15,\n",
       " 'then': 95,\n",
       " 'just': 52,\n",
       " 'com': 21,\n",
       " 'even': 31,\n",
       " 'first': 32,\n",
       " 'also': 3,\n",
       " 'computer': 22,\n",
       " 'by': 17,\n",
       " 'who': 119,\n",
       " 'up': 106,\n",
       " 'he': 41,\n",
       " 'could': 23,\n",
       " 'new': 64,\n",
       " 'should': 83,\n",
       " 'them': 94,\n",
       " 'any': 7,\n",
       " 'see': 82,\n",
       " 'now': 68,\n",
       " 'say': 81,\n",
       " 'god': 36,\n",
       " 'or': 73,\n",
       " 'how': 45,\n",
       " 'me': 59,\n",
       " 'does': 27,\n",
       " 'when': 117,\n",
       " 'am': 4,\n",
       " 'will': 121,\n",
       " 'only': 72,\n",
       " 'get': 35,\n",
       " 'like': 54,\n",
       " 'we': 113,\n",
       " 'an': 5,\n",
       " 'were': 115,\n",
       " 'don': 28,\n",
       " 'such': 88,\n",
       " 'as': 11,\n",
       " 'because': 14,\n",
       " 'into': 48,\n",
       " 'time': 102,\n",
       " 'these': 97,\n",
       " 'my': 62,\n",
       " 'much': 61,\n",
       " 'ca': 18,\n",
       " 'many': 57,\n",
       " 'distribution': 25,\n",
       " 'those': 101,\n",
       " 'other': 75,\n",
       " 'good': 37,\n",
       " 'two': 104,\n",
       " 'very': 110,\n",
       " 'make': 56,\n",
       " 'system': 89,\n",
       " 'anyone': 8,\n",
       " 'its': 51,\n",
       " 'use': 108,\n",
       " 'cs': 24,\n",
       " 'had': 38,\n",
       " 'may': 58,\n",
       " '10': 0,\n",
       " 'space': 86,\n",
       " 'nasa': 63}"
      ]
     },
     "execution_count": 24,
     "metadata": {},
     "output_type": "execute_result"
    }
   ],
   "source": [
    "vectorizer.vocabulary_"
   ]
  },
  {
   "cell_type": "code",
   "execution_count": 27,
   "id": "5ccc023f-6e96-4ace-bd78-88ce83b371c0",
   "metadata": {},
   "outputs": [
    {
     "name": "stdout",
     "output_type": "stream",
     "text": [
      "  (0, 126)\t0.11400721627511316\n",
      "  (0, 124)\t0.07421721902788872\n",
      "  (0, 122)\t0.11949508686860338\n",
      "  (0, 118)\t0.08570217074291997\n",
      "  (0, 116)\t0.07481593865537586\n",
      "  (0, 105)\t0.13974223296524052\n",
      "  (0, 103)\t0.1677525174536722\n",
      "  (0, 100)\t0.17612897708769276\n",
      "  (0, 99)\t0.1843180265648858\n",
      "  (0, 92)\t0.6767253520993782\n",
      "  (0, 87)\t0.03646664906118272\n",
      "  (0, 85)\t0.08158002185887603\n",
      "  (0, 80)\t0.053430142015340104\n",
      "  (0, 79)\t0.0632304476929496\n",
      "  (0, 77)\t0.09941308676916245\n",
      "  (0, 76)\t0.0797442267512413\n",
      "  (0, 74)\t0.03772474889206225\n",
      "  (0, 70)\t0.05681888145210847\n",
      "  (0, 69)\t0.2125532561801561\n",
      "  (0, 67)\t0.12314251178160003\n",
      "  (0, 66)\t0.1598032286916699\n",
      "  (0, 65)\t0.06558128862039751\n",
      "  (0, 55)\t0.0365050148185997\n",
      "  (0, 53)\t0.08464509240861498\n",
      "  (0, 50)\t0.10049136432756635\n",
      "  (0, 49)\t0.3385528868833151\n",
      "  (0, 47)\t0.04422486459253297\n",
      "  (0, 46)\t0.06263619256993903\n",
      "  (0, 44)\t0.06513669697113131\n",
      "  (0, 43)\t0.11438805731869899\n",
      "  (0, 42)\t0.10492687419879328\n",
      "  (0, 39)\t0.07856977553082634\n",
      "  (0, 34)\t0.10939994718354817\n",
      "  (0, 30)\t0.15690874487899947\n",
      "  (0, 26)\t0.07638584467780127\n",
      "  (0, 16)\t0.06381424863650907\n",
      "  (0, 12)\t0.0669485412320258\n",
      "  (0, 9)\t0.12468531490709432\n",
      "  (0, 6)\t0.13271017678236327\n"
     ]
    }
   ],
   "source": [
    "for c in X[0]:\n",
    "    print(c)"
   ]
  },
  {
   "cell_type": "code",
   "execution_count": null,
   "id": "3d984953-54fd-4d0b-8c1c-ab95990041f3",
   "metadata": {},
   "outputs": [],
   "source": []
  }
 ],
 "metadata": {
  "kernelspec": {
   "display_name": "Python 3 (ipykernel)",
   "language": "python",
   "name": "python3"
  },
  "language_info": {
   "codemirror_mode": {
    "name": "ipython",
    "version": 3
   },
   "file_extension": ".py",
   "mimetype": "text/x-python",
   "name": "python",
   "nbconvert_exporter": "python",
   "pygments_lexer": "ipython3",
   "version": "3.10.0"
  }
 },
 "nbformat": 4,
 "nbformat_minor": 5
}
